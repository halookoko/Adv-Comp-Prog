{
 "cells": [
  {
   "cell_type": "markdown",
   "metadata": {},
   "source": [
    "# File I/O"
   ]
  },
  {
   "cell_type": "code",
   "execution_count": 9,
   "metadata": {},
   "outputs": [],
   "source": [
    "fileHandle = open('test.txt','w')\n",
    "fileHandle.write('content else')\n",
    "fileHandle.close()"
   ]
  },
  {
   "cell_type": "markdown",
   "metadata": {},
   "source": [
    "- additional content"
   ]
  },
  {
   "cell_type": "code",
   "execution_count": 25,
   "metadata": {},
   "outputs": [
    {
     "data": {
      "text/plain": [
       "True"
      ]
     },
     "execution_count": 25,
     "metadata": {},
     "output_type": "execute_result"
    }
   ],
   "source": [
    "fileHandle = open('test.txt','a')\n",
    "fileHandle.write('\\nadditional content')\n",
    "fileHandle.close()\n",
    "fileHandle.closed"
   ]
  },
  {
   "cell_type": "code",
   "execution_count": 27,
   "metadata": {
    "scrolled": false
   },
   "outputs": [
    {
     "name": "stdout",
     "output_type": "stream",
     "text": [
      "content elseadditional content\n",
      "additional content\n",
      "additional content\n",
      "additional content\n",
      "additional content\n"
     ]
    }
   ],
   "source": [
    "fileHandle = open('test.txt','r')\n",
    "contents = fileHandle.read()\n",
    "print(contents)"
   ]
  },
  {
   "cell_type": "code",
   "execution_count": 28,
   "metadata": {},
   "outputs": [
    {
     "data": {
      "text/plain": [
       "['content elseadditional content\\n',\n",
       " 'additional content\\n',\n",
       " 'additional content\\n',\n",
       " 'additional content\\n',\n",
       " 'additional content']"
      ]
     },
     "execution_count": 28,
     "metadata": {},
     "output_type": "execute_result"
    }
   ],
   "source": [
    "fileHandle = open('test.txt')\n",
    "fileHandle.readlines()"
   ]
  },
  {
   "cell_type": "code",
   "execution_count": 29,
   "metadata": {
    "scrolled": true
   },
   "outputs": [
    {
     "data": {
      "text/plain": [
       "['content elseadditional content',\n",
       " 'additional content',\n",
       " 'additional content',\n",
       " 'additional content',\n",
       " 'additional content']"
      ]
     },
     "execution_count": 29,
     "metadata": {},
     "output_type": "execute_result"
    }
   ],
   "source": [
    "contents.splitlines()"
   ]
  },
  {
   "cell_type": "code",
   "execution_count": 30,
   "metadata": {
    "scrolled": true
   },
   "outputs": [
    {
     "data": {
      "text/plain": [
       "['content elseadditional content',\n",
       " 'additional content',\n",
       " 'additional content',\n",
       " 'additional content',\n",
       " 'additional content']"
      ]
     },
     "execution_count": 30,
     "metadata": {},
     "output_type": "execute_result"
    }
   ],
   "source": [
    "fileHandle = open('test.txt')\n",
    "fileHandle.read().splitlines()"
   ]
  },
  {
   "cell_type": "code",
   "execution_count": 44,
   "metadata": {},
   "outputs": [],
   "source": [
    "s = ' \\n\\r\\n abc def\\n\\r\\n \\n  '"
   ]
  },
  {
   "cell_type": "code",
   "execution_count": 56,
   "metadata": {},
   "outputs": [
    {
     "data": {
      "text/plain": [
       "'abc def\\n\\r\\n \\n  '"
      ]
     },
     "execution_count": 56,
     "metadata": {},
     "output_type": "execute_result"
    }
   ],
   "source": [
    "s.lstrip()"
   ]
  },
  {
   "cell_type": "code",
   "execution_count": 42,
   "metadata": {},
   "outputs": [
    {
     "data": {
      "text/plain": [
       "' \\n\\r\\n abc def'"
      ]
     },
     "execution_count": 42,
     "metadata": {},
     "output_type": "execute_result"
    }
   ],
   "source": [
    "s.rstrip()"
   ]
  },
  {
   "cell_type": "code",
   "execution_count": 46,
   "metadata": {},
   "outputs": [
    {
     "data": {
      "text/plain": [
       "' \\n\\n abc def\\n\\n \\n  '"
      ]
     },
     "execution_count": 46,
     "metadata": {},
     "output_type": "execute_result"
    }
   ],
   "source": [
    "s.replace('\\r','')"
   ]
  },
  {
   "cell_type": "markdown",
   "metadata": {},
   "source": [
    "# Text parsing"
   ]
  },
  {
   "cell_type": "code",
   "execution_count": 128,
   "metadata": {
    "scrolled": false
   },
   "outputs": [
    {
     "name": "stdout",
     "output_type": "stream",
     "text": [
      "['', 'Rev 21:1 Then I saw a new heaven and a new earth; the first heaven and the first earth had disappeared now,', 'and there was no longer any sea.', '   Rev 21:2 I saw the holy city, the new Jerusalem, coming down out of heaven from God, prepared as a bride', 'dressed for her husband.', \"Rev 21:3 Then I heard a loud voice call from the throne, 'Look, here God lives among human beings. He will\", 'make his home among them; they will be his people, and he will be their God, God-with-them.   ', 'Rev 21:4 He will wipe away all tears from their eyes; there will be no more death, and no more mourning or', \"sadness or pain. The world of the past has gone.'\", \"Rev 21:5 Then the One sitting on the throne spoke. 'Look, I am making the whole of creation new. Write this,\", '\"What I am saying is trustworthy and will come true.\"', \"Rev 21:6 Then he said to me, 'It has already happened. I am the Alpha and the Omega, the Beginning and the\", 'End. I will give water from the well of life free to anybody who is thirsty;', 'Rev 21:7 anyone who proves victorious will inherit these things; and I will be his God and he will be my son.', 'Rev 21:8 But the legacy for cowards, for those who break their word, or worship obscenities, for murderers and', 'the sexually immoral, and for sorcerers, worshippers of false gods or any other sort of liars, is the second death', \"in the burning lake of sulphur.'\", 'Rev 21:9 One of the seven angels that had the seven bowls full of the seven final plagues came to speak to me', \"and said, 'Come here and I will show you the bride that the Lamb has married.'\", '   Rev 21:10 In the spirit, he carried me to the top of a very high mountain, and showed me Jerusalem, the holy', 'city, coming down out of heaven from God.', 'Rev 21:11 It had all the glory of God and glittered like some precious jewel of crystal-clear diamond.', 'Rev 21:12 Its wall was of a great height and had twelve gates; at each of the twelve gates there was an angel,', 'and over the gates were written the names of the twelve tribes of Israel;', 'Rev 21:13 on the east there were three gates, on the north three gates, on the south three gates, and on the', 'west three gates.', '  Rev 21:14 The city walls stood on twelve foundation stones, each one of which bore the name of one of the', 'twelve apostles of the Lamb.', 'Rev 21:15 The angel that was speaking to me was carrying a gold measuring rod to measure the city and its', 'gates and wall.', 'Rev 21:16 The plan of the city is perfectly square, its length the same as its breadth. He measured the city with', 'his rod and it was twelve thousand furlongs, equal in length and in breadth, and equal in height.', 'Rev 21:17 He measured its wall, and this was a hundred and forty-four cubits high -- by human measurements.', 'Rev 21:18 The wall was built of diamond, and the city of pure gold, like clear glass.', 'Rev 21:19 The foundations of the city wall were faced with all kinds of precious stone: the first with diamond, the', 'second lapis lazuli, the third turquoise, the fourth crystal,', '  Rev 21:20 the fifth agate, the sixth ruby, the seventh gold quartz, the eighth malachite, the ninth topaz, the tenth', 'emerald, the eleventh sapphire and the twelfth amethyst.', 'Rev 21:21 The twelve gates were twelve pearls, each gate being made of a single pearl, and the main street of', 'the city was pure gold, transparent as glass.', 'Rev 21:22 I could not see any temple in the city since the Lord God Almighty and the Lamb were themselves', 'the temple,', 'Rev 21:23 and the city did not need the sun or the moon for light, since it was lit by the radiant glory of God, and', 'the Lamb was a lighted torch for it.   ', 'Rev 21:24 The nations will come to its light and the kings of the earth will bring it their treasures.', 'Rev 21:25 Its gates will never be closed by day -- and there will be no night there-', 'Rev 21:26 and the nations will come, bringing their treasure and their wealth.', 'Rev 21:27 Nothing unclean may come into it: no one who does what is loathsome or false, but only those who', \"are listed in the Lamb's book of life.\", '', 'Rev 22:1 Then the angel showed me the river of life, rising from the throne of God and of the Lamb and flowing', 'crystal-clear.', 'Rev 22:2 Down the middle of the city street, on either bank of the river were the trees of life, which bear twelve', 'crops of fruit in a year, one in each month, and the leaves of which are the cure for the nations.', 'Rev 22:3 The curse of destruction will be abolished. The throne of God and of the Lamb will be in the city; his', 'servants will worship him,', 'Rev 22:4 they will see him face to face, and his name will be written on their foreheads.', 'Rev 22:5 And night will be abolished; they will not need lamplight or sunlight, because the Lord God will be', 'shining on them. They will reign for ever and ever.', \"Rev 22:6 The angel said to me, 'All that you have written is sure and will come true: the Lord God who inspires\", 'the prophets has sent his angel to reveal to his servants what is soon to take place.', \"Rev 22:7 I am coming soon!' Blessed are those who keep the prophetic message of this book.\", ' Rev 22:8 I, John, am the one who heard and saw these things. When I had heard and seen them all, I knelt at', 'the feet of the angel who had shown them to me, to worship him;', \"Rev 22:9 but he said, 'Do no such thing: I am your fellow-servant and the fellow-servant of your brothers the\", \"prophets and those who keep the message of this book. God alone you must worship.'\", \"Rev 22:10 This, too, he said to me, 'Do not keep the prophecies in this book a secret, because the Time is\", 'close.', 'Rev 22:11 Meanwhile let the sinner continue sinning, and the unclean continue to be unclean; let the upright', 'continue in his uprightness, and those who are holy continue to be holy.', 'Rev 22:12 Look, I am coming soon, and my reward is with me, to repay everyone as their deeds deserve.', 'Rev 22:13 I am the Alpha and the Omega, the First and the Last, the Beginning and the End.', 'Rev 22:14 Blessed are those who will have washed their robes clean, so that they will have the right to feed on', 'the tree of life and can come through the gates into the city.', 'Rev 22:15 Others must stay outside: dogs, fortune-tellers, and the sexually immoral, murderers, idolaters, and', \"everyone of false speech and false life.'\", 'Rev 22:16 I, Jesus, have sent my angel to attest these things to you for the sake of the churches. I am the sprig', 'from the root of David and the bright star of the morning.', \"Rev 22:17 The Spirit and the Bride say, 'Come!' Let everyone who listens answer, 'Come!' Then let all who are\", 'thirsty come: all who want it may have the water of life, and have it free.', 'Rev 22:18 This is my solemn attestation to all who hear the prophecies in this book: if anyone adds anything to', 'them, God will add to him every plague mentioned in the book;', 'Rev 22:19 if anyone cuts anything out of the prophecies in this book, God will cut off his share of the tree of life', 'and of the holy city, which are described in the book.', 'Rev 22:20 The one who attests these things says: I am indeed coming soon; amen; come, Lord Jesus.', 'Rev 22:21 May the grace of the Lord Jesus be with you all. Amen.']\n",
      "\n",
      "Rev 21:1 Then I saw a new heaven and a new earth. the first heaven and the first earth had disappeared now,\n",
      "and there was no longer any sea.\n",
      "Rev 21:2 I saw the holy city, the new Jerusalem, coming down out of heaven from God, prepared as a bride\n",
      "dressed for her husband.\n",
      "Rev 21:3 Then I heard a loud voice call from the throne, 'Look, here God lives among human beings. He will\n",
      "make his home among them. they will be his people, and he will be their God, God-with-them.\n",
      "Rev 21:4 He will wipe away all tears from their eyes. there will be no more death, and no more mourning or\n",
      "sadness or pain. The world of the past has gone.'\n",
      "Rev 21:5 Then the One sitting on the throne spoke. 'Look, I am making the whole of creation new. Write this,\n",
      "\"What I am saying is trustworthy and will come true.\"\n",
      "Rev 21:6 Then he said to me, 'It has already happened. I am the Alpha and the Omega, the Beginning and the\n",
      "End. I will give water from the well of life free to anybody who is thirsty.\n",
      "Rev 21:7 anyone who proves victorious will inherit these things. and I will be his God and he will be my son.\n",
      "Rev 21:8 But the legacy for cowards, for those who break their word, or worship obscenities, for murderers and\n",
      "the sexually immoral, and for sorcerers, worshippers of false gods or any other sort of liars, is the second death\n",
      "in the burning lake of sulphur.'\n",
      "Rev 21:9 One of the seven angels that had the seven bowls full of the seven final plagues came to speak to me\n",
      "and said, 'Come here and I will show you the bride that the Lamb has married.'\n",
      "Rev 21:10 In the spirit, he carried me to the top of a very high mountain, and showed me Jerusalem, the holy\n",
      "city, coming down out of heaven from God.\n",
      "Rev 21:11 It had all the glory of God and glittered like some precious jewel of crystal-clear diamond.\n",
      "Rev 21:12 Its wall was of a great height and had twelve gates. at each of the twelve gates there was an angel,\n",
      "and over the gates were written the names of the twelve tribes of Israel.\n",
      "Rev 21:13 on the east there were three gates, on the north three gates, on the south three gates, and on the\n",
      "west three gates.\n",
      "Rev 21:14 The city walls stood on twelve foundation stones, each one of which bore the name of one of the\n",
      "twelve apostles of the Lamb.\n",
      "Rev 21:15 The angel that was speaking to me was carrying a gold measuring rod to measure the city and its\n",
      "gates and wall.\n",
      "Rev 21:16 The plan of the city is perfectly square, its length the same as its breadth. He measured the city with\n",
      "his rod and it was twelve thousand furlongs, equal in length and in breadth, and equal in height.\n",
      "Rev 21:17 He measured its wall, and this was a hundred and forty-four cubits high -- by human measurements.\n",
      "Rev 21:18 The wall was built of diamond, and the city of pure gold, like clear glass.\n",
      "Rev 21:19 The foundations of the city wall were faced with all kinds of precious stone: the first with diamond, the\n",
      "second lapis lazuli, the third turquoise, the fourth crystal,\n",
      "Rev 21:20 the fifth agate, the sixth ruby, the seventh gold quartz, the eighth malachite, the ninth topaz, the tenth\n",
      "emerald, the eleventh sapphire and the twelfth amethyst.\n",
      "Rev 21:21 The twelve gates were twelve pearls, each gate being made of a single pearl, and the main street of\n",
      "the city was pure gold, transparent as glass.\n",
      "Rev 21:22 I could not see any temple in the city since the Lord God Almighty and the Lamb were themselves\n",
      "the temple,\n",
      "Rev 21:23 and the city did not need the sun or the moon for light, since it was lit by the radiant glory of God, and\n",
      "the Lamb was a lighted torch for it.\n",
      "Rev 21:24 The nations will come to its light and the kings of the earth will bring it their treasures.\n",
      "Rev 21:25 Its gates will never be closed by day -- and there will be no night there-\n",
      "Rev 21:26 and the nations will come, bringing their treasure and their wealth.\n",
      "Rev 21:27 Nothing unclean may come into it: no one who does what is loathsome or false, but only those who\n",
      "are listed in the Lamb's book of life.\n",
      "\n",
      "Rev 22:1 Then the angel showed me the river of life, rising from the throne of God and of the Lamb and flowing\n",
      "crystal-clear.\n",
      "Rev 22:2 Down the middle of the city street, on either bank of the river were the trees of life, which bear twelve\n",
      "crops of fruit in a year, one in each month, and the leaves of which are the cure for the nations.\n",
      "Rev 22:3 The curse of destruction will be abolished. The throne of God and of the Lamb will be in the city. his\n",
      "servants will worship him,\n",
      "Rev 22:4 they will see him face to face, and his name will be written on their foreheads.\n",
      "Rev 22:5 And night will be abolished. they will not need lamplight or sunlight, because the Lord God will be\n",
      "shining on them. They will reign for ever and ever.\n",
      "Rev 22:6 The angel said to me, 'All that you have written is sure and will come true: the Lord God who inspires\n",
      "the prophets has sent his angel to reveal to his servants what is soon to take place.\n",
      "Rev 22:7 I am coming soon!' Blessed are those who keep the prophetic message of this book.\n",
      "Rev 22:8 I, John, am the one who heard and saw these things. When I had heard and seen them all, I knelt at\n",
      "the feet of the angel who had shown them to me, to worship him.\n",
      "Rev 22:9 but he said, 'Do no such thing: I am your fellow-servant and the fellow-servant of your brothers the\n",
      "prophets and those who keep the message of this book. God alone you must worship.'\n",
      "Rev 22:10 This, too, he said to me, 'Do not keep the prophecies in this book a secret, because the Time is\n",
      "close.\n",
      "Rev 22:11 Meanwhile let the sinner continue sinning, and the unclean continue to be unclean. let the upright\n",
      "continue in his uprightness, and those who are holy continue to be holy.\n",
      "Rev 22:12 Look, I am coming soon, and my reward is with me, to repay everyone as their deeds deserve.\n",
      "Rev 22:13 I am the Alpha and the Omega, the First and the Last, the Beginning and the End.\n",
      "Rev 22:14 Blessed are those who will have washed their robes clean, so that they will have the right to feed on\n",
      "the tree of life and can come through the gates into the city.\n",
      "Rev 22:15 Others must stay outside: dogs, fortune-tellers, and the sexually immoral, murderers, idolaters, and\n",
      "everyone of false speech and false life.'\n",
      "Rev 22:16 I, Jesus, have sent my angel to attest these things to you for the sake of the churches. I am the sprig\n",
      "from the root of David and the bright star of the morning.\n",
      "Rev 22:17 The Spirit and the Bride say, 'Come!' Let everyone who listens answer, 'Come!' Then let all who are\n",
      "thirsty come: all who want it may have the water of life, and have it free.\n",
      "Rev 22:18 This is my solemn attestation to all who hear the prophecies in this book: if anyone adds anything to\n",
      "them, God will add to him every plague mentioned in the book.\n",
      "Rev 22:19 if anyone cuts anything out of the prophecies in this book, God will cut off his share of the tree of life\n",
      "and of the holy city, which are described in the book.\n",
      "Rev 22:20 The one who attests these things says: I am indeed coming soon. amen. come, Lord Jesus.\n",
      "Rev 22:21 May the grace of the Lord Jesus be with you all. Amen.\n"
     ]
    }
   ],
   "source": [
    "f = open('apocalypse1.txt')\n",
    "content = f.read().splitlines()\n",
    "print(content)\n",
    "\n",
    "new_content = []\n",
    "for line in content:\n",
    "    new_line = line.lstrip().rstrip().replace(';','.' )\n",
    "    print(new_line)\n",
    "    new_content.append(new_line)\n",
    "    \n",
    "new_f = open('new_apo.txt','a')\n",
    "for new_line in new_content:\n",
    "    new_f.write(new_line)\n",
    "    new_f.write('\\n')\n",
    "#     print(new_line)\n",
    "\n",
    "f.close()\n",
    "new_f.close()"
   ]
  },
  {
   "cell_type": "code",
   "execution_count": 129,
   "metadata": {},
   "outputs": [],
   "source": [
    "readFile = open('apocalypse1.txt')\n",
    "lines = readFile.read().splitlines() # lines is a list of strings\n",
    "\n",
    "newFile = open('apocalypse1_new.txt','w')\n",
    "\n",
    "for i in range(len(lines)):\n",
    "    newFile.write(lines[i])\n",
    "    newFile.write('\\n')\n",
    "    \n",
    "readFile.close()\n",
    "newFile.close()"
   ]
  },
  {
   "cell_type": "markdown",
   "metadata": {},
   "source": [
    "# Edit contents:\n",
    "\n",
    "length = len(lines)\n",
    "i = 0\n",
    "while i < len(lines):\n",
    "    ## Remove white spaces at the beginning or end of each verse\n",
    "    lines[i] = line[i].strip()\n",
    "    \n",
    "    ## Replace all ; with ，\n",
    "    lines[i] = lines[i].replace(';',',')\n",
    "    \n",
    "    ## Remove empty lines\n",
    "    if len(line[i] == 0:\n",
    "           del lines[i]\n",
    "#            length -= 1\n",
    "           i -= 1\n",
    "           \n",
    "    i += 1\n",
    "\n",
    "           "
   ]
  },
  {
   "cell_type": "markdown",
   "metadata": {},
   "source": [
    "# capital quiz"
   ]
  },
  {
   "cell_type": "code",
   "execution_count": 2,
   "metadata": {},
   "outputs": [
    {
     "name": "stdout",
     "output_type": "stream",
     "text": [
      "dict_items([('Afghanistan', 'Kabul'), ('Albania', 'Tirana'), ('Algeria', 'Algiers'), ('Andorra', 'Andorra la Vella'), ('Angola', 'Luanda'), ('Antigua and Barbuda', \"Saint John's\"), ('Argentina', 'Buenos Aires'), ('Armenia', 'Yerevan'), ('Australia', 'Canberra'), ('Austria', 'Vienna'), ('Azerbaijan', 'Baku'), ('Bahamas', 'Nassau'), ('Bahrain', 'Manama'), ('Bangladesh', 'Dhaka'), ('Barbados', 'Bridgetown'), ('Belarus', 'Minsk'), ('Belgium', 'Brussels'), ('Belize', 'Belmopan'), ('Benin', 'Porto-Novo'), ('Bhutan', 'Thimphu'), ('Bolivia', 'La Paz'), ('Bosnia and Herzegovina', 'Sarajevo'), ('Botswana', 'Gaborone'), ('Brazil', 'Brasilia'), ('Brunei', 'Bandar Seri Begawan'), ('Bulgaria', 'Sofia'), ('Burkina Faso', 'Ouagadougou'), ('Burundi', 'Bujumbura'), ('Cabo Verde', 'Praia'), ('Cambodia', 'Phnom Penh'), ('Cameroon', 'Yaounde'), ('Canada', 'Ottawa'), ('Central African Republic', 'Bangui'), ('Chad', \"N'Djamena\"), ('Chile', 'Santiago'), ('China', 'Beijing'), ('Colombia', 'Bogota'), ('Comoros', 'Moroni'), ('Costa Rica', 'San Jose'), (\"Cote d'Ivoire\", 'Yamoussoukro'), ('Croatia', 'Zagreb'), ('Cuba', 'Havana'), ('Cyprus', 'Nicosia'), ('Czech Republic', 'Prague'), ('Democratic Republic of the Congo', 'Kinshasa'), ('Denmark', 'Copenhagen'), ('Djibouti', 'Djibouti (city)'), ('Dominica', 'Roseau'), ('Dominican Republic', 'Santo Domingo'), ('Ecuador', 'Quito'), ('Egypt', 'Cairo'), ('El Salvador', 'San Salvador'), ('Eritrea', 'Asmara'), ('Estonia', 'Tallinn'), ('Ethiopia', 'Addis Ababa'), ('Fiji', 'Suva'), ('Finland', 'Helsinki'), ('France', 'Paris'), ('Gabon', 'Libreville'), ('Gambia', 'Banjul'), ('Georgia', 'Tbilisi'), ('Germany', 'Berlin'), ('Ghana', 'Accra'), ('Greece', 'Athens'), ('Grenada', \"Saint George's\"), ('Guatemala', 'Guatemala City'), ('Guinea', 'Conakry'), ('Guinea-Bissau', 'Bissau'), ('Guyana', 'Georgetown'), ('Haiti', 'Port-au-Prince'), ('Honduras', 'Tegucigalpa'), ('Hungary', 'Budapest'), ('Iceland', 'Reykjavik'), ('India', 'New Delhi'), ('Indonesia', 'Jakarta'), ('Iran', 'Tehran'), ('Iraq', 'Baghdad'), ('Ireland', 'Dublin'), ('Israel', 'Jerusalem'), ('Italy', 'Rome'), ('Jamaica', 'Kingston'), ('Japan', 'Tokyo'), ('Jordan', 'Amman'), ('Kazakhstan', 'Astana'), ('Kenya', 'Nairobi'), ('Kiribati', 'Tarawa'), ('Kosovo', 'Pristina'), ('Kuwait', 'Kuwait City'), ('Kyrgyzstan', 'Bishkek'), ('Laos', 'Vientiane'), ('Latvia', 'Riga'), ('Lebanon', 'Beirut'), ('Lesotho', 'Maseru'), ('Liberia', 'Monrovia'), ('Libya', 'Tripoli'), ('Liechtenstein', 'Vaduz'), ('Lithuania', 'Vilnius'), ('Luxembourg', 'Luxembourg (city)'), ('Macedonia (FYROM)', 'Skopje'), ('Madagascar', 'Antananarivo'), ('Malawi', 'Lilongwe'), ('Malaysia', 'Kuala Lumpur'), ('Maldives', 'Male'), ('Mali', 'Bamako'), ('Malta', 'Valletta'), ('Marshall Islands', 'Majuro'), ('Mauritania', 'Nouakchott'), ('Mauritius', 'Port Louis'), ('Mexico', 'Mexico City'), ('Micronesia', 'Palikir'), ('Moldova', 'Chisinau'), ('Monaco', 'Monaco'), ('Mongolia', 'Ulaanbaatar'), ('Montenegro', 'Podgorica'), ('Morocco', 'Rabat'), ('Mozambique', 'Maputo'), ('Myanmar', 'Naypyidaw'), ('Namibia', 'Windhoek'), ('Nepal', 'Kathmandu'), ('Netherlands', 'Amsterdam'), ('New Zealand', 'Wellington'), ('Nicaragua', 'Managua'), ('Niger', 'Niamey'), ('Nigeria', 'Abuja'), ('North Korea', 'Pyongyang'), ('Norway', 'Oslo'), ('Oman', 'Muscat'), ('Pakistan', 'Islamabad'), ('Palau', 'Ngerulmud'), ('Palestine', 'Jerusalem (East)'), ('Panama', 'Panama City'), ('Papua New Guinea', 'Port Moresby'), ('Paraguay', 'Asuncion'), ('Peru', 'Lima'), ('Philippines', 'Manila'), ('Poland', 'Warsaw'), ('Portugal', 'Lisbon'), ('Qatar', 'Doha'), ('Republic of the Congo', 'Brazzaville'), ('Romania', 'Bucharest'), ('Russia', 'Moscow'), ('Rwanda', 'Kigali'), ('Saint Kitts and Nevis', 'Basseterre'), ('Saint Lucia', 'Castries'), ('Saint Vincent and the Grenadines', 'Kingstown'), ('Samoa', 'Apia'), ('San Marino', 'San Marino'), ('Sao Tome and Principe', 'Sao Tome'), ('Saudi Arabia', 'Riyadh'), ('Senegal', 'Dakar'), ('Serbia', 'Belgrade'), ('Seychelles', 'Victoria'), ('Sierra Leone', 'Freetown'), ('Singapore', 'Singapore'), ('Slovakia', 'Bratislava'), ('Slovenia', 'Ljubljana'), ('Solomon Islands', 'Honiara'), ('Somalia', 'Mogadishu'), ('South Africa', 'Pretoria'), ('South Korea', 'Seoul'), ('South Sudan', 'Juba'), ('Spain', 'Madrid'), ('Sri Lanka', 'Sri Jayawardenepura Kotte'), ('Sudan', 'Khartoum'), ('Suriname', 'Paramaribo'), ('Sweden', 'Stockholm'), ('Switzerland', 'Bern'), ('Syria', 'Damascus'), ('Taiwan', 'Taipei'), ('Tajikistan', 'Dushanbe'), ('Tanzania', 'Dodoma'), ('Thailand', 'Bangkok'), ('Timor-Leste', 'Dili'), ('Togo', 'Lome'), ('Tonga', 'Nuku?alofa'), ('Trinidad and Tobago', 'Port of Spain'), ('Tunisia', 'Tunis'), ('Turkey', 'Ankara'), ('Turkmenistan', 'Ashgabat'), ('Tuvalu', 'Funafuti'), ('Uganda', 'Kampala'), ('Ukraine', 'Kyiv'), ('United Arab Emirates', 'Abu Dhabi'), ('United Kingdom', 'London'), ('United States of America', 'Washington, D.C.'), ('Uruguay', 'Montevideo'), ('Uzbekistan', 'Tashkent'), ('Vanuatu', 'Port Vila'), ('Vatican City (Holy See)', 'Vatican City'), ('Venezuela', 'Caracas'), ('Vietnam', 'Hanoi'), ('Yemen', \"Sana'a\"), ('Zambia', 'Lusaka'), ('Zimbabwe', 'Harare')])\n"
     ]
    }
   ],
   "source": [
    "import random\n",
    "#oepn the files containing data\n",
    "capital_handler = open('listOfCapitals.txt')\n",
    "country_handler = open('listOfCountries.txt')\n",
    "\n",
    "#import the data into lists or dicts \n",
    "list_capital = capital_handler.read().splitlines()\n",
    "list_country = country_handler.read().splitlines()\n",
    "# print(list_capital)\n",
    "# print(list_country)\n",
    "\n",
    "generate dict\n",
    "dict = {}\n",
    "for i in range(len(list_capital)):\n",
    "    dict[list_country[i]] = list_capital[i] \n",
    "print(dict.items())\n",
    "\n",
    "# dict = {}\n",
    "# count = 0\n",
    "# while count <= 193:\n",
    "#     dict[list_country[count]] = list_capital[count] \n",
    "#     count += 1\n",
    "# print(dict.items())\n",
    "\n",
    "## generate files\n",
    "for quizNum in range(5):\n",
    "    quizFile = open('capitalsquiz%s.txt'%(quizNum+1),'w')\n",
    "    \n",
    "    ##write the header (name and quiz number)\n",
    "    quizFile.write('Name:\\n\\n')\n",
    "    quizFile.write('Capitals Quiz (Form %s)'%(quizNum+1))\n",
    "    quizFile.write('\\n\\n')\n",
    "    \n",
    "    ## shuffle data\n",
    "    countries = list(capitals.keys())\n",
    "    random.shuffle(countries)\n",
    "    \n",
    "    ##write questions \n",
    "    for questionNum in range(10) #Berlin\n",
    "    correctAnswer = capitals[countries[questionNum]]\n",
    "    wrongAnswers = list(capitals.values())\n",
    "    del wrongAnswers[wrongAnswers.index(correctAnswers)] # delete Berlin\n",
    "    wrongAnswer = random.sample(wrongAnswers,3) # picks only 3 random from the wrong answers \n",
    "    answerOptions = wrongAnswers + [correctAnswer]\n",
    "    random.shuffle(answerOptions)\n",
    "    \n",
    "    quizFile.write(\"%s What's the capital of %s?\\n\" % (questionNum+1,countries[questionNum]))\n",
    "    for i in range(4):\n",
    "        quizFile.write('%s. %s' %('ABCD'[i], answerOptions[i])\n",
    "        quizFile.write('\\n')\n",
    "    quizFile.write('\\n\\n')\n"
   ]
  },
  {
   "cell_type": "code",
   "execution_count": null,
   "metadata": {},
   "outputs": [],
   "source": []
  }
 ],
 "metadata": {
  "kernelspec": {
   "display_name": "Python 3",
   "language": "python",
   "name": "python3"
  },
  "language_info": {
   "codemirror_mode": {
    "name": "ipython",
    "version": 3
   },
   "file_extension": ".py",
   "mimetype": "text/x-python",
   "name": "python",
   "nbconvert_exporter": "python",
   "pygments_lexer": "ipython3",
   "version": "3.7.1"
  }
 },
 "nbformat": 4,
 "nbformat_minor": 2
}
